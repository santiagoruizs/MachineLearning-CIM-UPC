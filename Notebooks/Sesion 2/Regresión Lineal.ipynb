{
 "cells": [
  {
   "cell_type": "markdown",
   "metadata": {},
   "source": [
    "# Regresión lineal\n",
    "\n",
    "Para este ejemplo, el dataset de ejemplo de Regresion Lineal de Kaggle . Podeis encontrar el dataset y la explicación en el siguiente linkÑ https://www.kaggle.com/andonians/random-linear-regression/data. Poner los datasets, el train.csv y el test.csv en una carpeta que se llame Data. Para haceros la vida más facil, he *giteado* tambien los datos en la carpeta Data."
   ]
  },
  {
   "cell_type": "code",
   "execution_count": 2,
   "metadata": {},
   "outputs": [],
   "source": [
    "import pandas as pd\n",
    "import numpy as np\n",
    "import matplotlib.pyplot as plt\n",
    "from sklearn.linear_model import LinearRegression \n",
    "from sklearn.metrics import r2_score\n",
    "from sklearn.metrics import mean_squared_error"
   ]
  },
  {
   "cell_type": "markdown",
   "metadata": {},
   "source": [
    "Vamos ahora a cojer los datos y a visualizarlos. Para hacernos la vida más fácil, tal y como ya hicimos en el ejemplo anterior, usaremos DataFrames."
   ]
  },
  {
   "cell_type": "code",
   "execution_count": 3,
   "metadata": {},
   "outputs": [],
   "source": [
    "df_train = pd.read_csv('Data/train.csv')\n",
    "df_test = pd.read_csv('Data/test.csv')\n",
    "\n",
    "x_train = df_train['x']\n",
    "y_train = df_train['y']\n",
    "x_test = df_test['x']\n",
    "y_test = df_test['y']\n",
    "\n",
    "x_train = np.array(x_train)\n",
    "y_train = np.array(y_train)\n",
    "x_test = np.array(x_test)\n",
    "y_test = np.array(y_test)\n",
    "\n",
    "x_train = x_train.reshape(-1,1)\n",
    "x_test = x_test.reshape(-1,1)"
   ]
  },
  {
   "cell_type": "markdown",
   "metadata": {},
   "source": [
    "Vamos ahora a mostrar los datos para entenderlos:"
   ]
  },
  {
   "cell_type": "code",
   "execution_count": 4,
   "metadata": {},
   "outputs": [
    {
     "name": "stdout",
     "output_type": "stream",
     "text": [
      "Este dataset contiene (699, 1) elementos en el test set\n",
      "Este dataset contiene (300, 1) elementos en el test set\n"
     ]
    },
    {
     "data": {
      "text/plain": [
       "<Figure size 1440x1440 with 0 Axes>"
      ]
     },
     "metadata": {},
     "output_type": "display_data"
    },
    {
     "data": {
      "image/png": "[encoded data removed]",
      "text/plain": [
       "<Figure size 432x288 with 2 Axes>"
      ]
     },
     "metadata": {
      "needs_background": "light"
     },
     "output_type": "display_data"
    }
   ],
   "source": [
    "plt.figure(figsize=(20,20))\n",
    "fig, (ax1, ax2) = plt.subplots(1, 2)\n",
    "ax1.plot(x_train, y_train,'.')\n",
    "ax1.set(xlabel='X axis', ylabel='Y axis')\n",
    "ax1.set(title='Training Set')\n",
    "\n",
    "ax2.plot(x_test, y_test,'.',color='red')\n",
    "ax2.set(xlabel='X axis', ylabel='Y axis')\n",
    "ax2.set(title='Test Set')\n",
    "\n",
    "print(\"Este dataset contiene {} elementos en el trainingset\".format(x_train.shape))\n",
    "print(\"Este dataset contiene {} elementos en el testset\".format(x_test.shape))"
   ]
  },
  {
   "cell_type": "markdown",
   "metadata": {},
   "source": [
    "Ahora que entendemos como son los datos, vamos a usar directamente la libreria de Scikit Learn para ver la solución."
   ]
  },
  {
   "cell_type": "code",
   "execution_count": 7,
   "metadata": {},
   "outputs": [
    {
     "name": "stdout",
     "output_type": "stream",
     "text": [
      "El R2 es: 0.9888014444327563\n",
      "El pendiente es: [1.00065638]\n",
      "El intercept es: -0.10726546430097983\n"
     ]
    }
   ],
   "source": [
    "clf = LinearRegression(normalize=True)\n",
    "clf.fit(x_train,y_train)\n",
    "\n",
    "y_pred = clf.predict(x_test)\n",
    "\n",
    "print(\"El R2 es: {}\".format(r2_score(y_test,y_pred)))\n",
    "print(\"El pendiente es: {}\".format(clf.coef_))\n",
    "print(\"El intercept es: {}\".format(clf.intercept_))"
   ]
  },
  {
   "cell_type": "markdown",
   "metadata": {},
   "source": [
    "Vemos que la regresión lineal que hemos generado nos da un $R^2$ elevado, vemos entonces que hemos hecho una buena aproximación a los datos. ¿Qué pasa si no normalizamos? Veamos que recta de regresión lineal hemos encontrado."
   ]
  },
  {
   "cell_type": "code",
   "execution_count": null,
   "metadata": {},
   "outputs": [],
   "source": [
    "plt.figure(figsize=(10,10))\n",
    "plt.scatter(x_test,y_test,color='red')\n",
    "plt.plot(x_test,y_pred,color='black')\n",
    "plt.show()"
   ]
  },
  {
   "cell_type": "markdown",
   "metadata": {},
   "source": [
    "Veamos ahora los residuales:"
   ]
  },
  {
   "cell_type": "code",
   "execution_count": null,
   "metadata": {},
   "outputs": [],
   "source": [
    "plt.figure(figsize=(10,10))\n",
    "plt.scatter(x_test,y_test-y_pred,color='red')\n",
    "plt.plot(x_test,y_pred-y_pred,color='black')\n",
    "plt.show()"
   ]
  },
  {
   "cell_type": "markdown",
   "metadata": {},
   "source": [
    "Vemos que estos residuales son aleatorios, hemos hecho un buen fit!"
   ]
  },
  {
   "cell_type": "markdown",
   "metadata": {},
   "source": [
    "# Nuestro Regresor Lineal\n",
    "No vamos a usar **scikit**, sinó que vamos crear nosotros mismo el codigo que implemente la regresión lineal. Esto sólo lo haremos con este algoritmo ya que es sencillo y de esta manera quedará la logica de como se entrena un modelo más clara. Y nunca se sabe si tendrás que acabar haciendo algo parecido en un ESP32 por ejemplo...\n",
    "\n",
    "Emperzaremos por con un *toy example*. Los datos que tenemos son los siguientes:"
   ]
  },
  {
   "cell_type": "code",
   "execution_count": null,
   "metadata": {},
   "outputs": [],
   "source": [
    "x_train = np.array([1,2,3,4,5])\n",
    "y_train = np.array([5,7,9,11,13])"
   ]
  },
  {
   "cell_type": "markdown",
   "metadata": {},
   "source": [
    "Vamos a ver que forma tienen estos datos:"
   ]
  },
  {
   "cell_type": "code",
   "execution_count": null,
   "metadata": {},
   "outputs": [],
   "source": [
    "plt.plot(x_train,y_train,'.')\n",
    "plt.show()"
   ]
  },
  {
   "cell_type": "markdown",
   "metadata": {},
   "source": [
    "Es fácil de ver que la recta que cumple esto es: $y = x*m + b = x*2 + 3$. Veamoslo:"
   ]
  },
  {
   "cell_type": "code",
   "execution_count": null,
   "metadata": {},
   "outputs": [],
   "source": [
    "y = 2*x_train + 3\n",
    "plt.plot(x_train,y,color=\"red\")\n",
    "plt.plot(x_train,y_train,'.')\n",
    "plt.show()"
   ]
  },
  {
   "cell_type": "markdown",
   "metadata": {},
   "source": [
    "Vamos ahora a usar MSE y Gradient Desccent para encontrar esta recta:"
   ]
  },
  {
   "cell_type": "code",
   "execution_count": null,
   "metadata": {},
   "outputs": [],
   "source": [
    "n = len(x_train)\n",
    "alpha = 0.01\n",
    "\n",
    "a_0 = 0\n",
    "a_1 = 0\n",
    "\n",
    "epochs = 10000\n",
    "\n",
    "for i in range(epochs):\n",
    "    # Calcula el valor y el error que cometemos.\n",
    "    y_predicted = a_0 + a_1 * x_train\n",
    "    error = y_train - y_predicted \n",
    "    \n",
    "    # Calcula el valor de la función de coste.\n",
    "    mean_sq_er = (1/n) * np.sum(error**2)\n",
    "    \n",
    "    # Usamos Gradient Descent para encontrar de manera mas rápida el valor de m y b (a_1 y a_0 respectivamente.)\n",
    "    a_0 = a_0 - alpha * (-2/n) * np.sum(error) \n",
    "    a_1 = a_1 - alpha * (-2/n) * np.sum(error * x_train)\n",
    " \n",
    "    if i%50 ==0 :\n",
    "        print(\"a_1={}, a_0={}, MSE={} iteration{}.\".format(a_1,a_0,mean_sq_er,i))\n",
    "    \n",
    "print(\"a_1={}, a_0={}, MSE={} iteration{}.\".format(a_1,a_0,mean_sq_er,i))"
   ]
  },
  {
   "cell_type": "markdown",
   "metadata": {},
   "source": [
    "## Propuesta\n",
    "Usando el dataset anterior, escojer aleatoriamente 100 puntos y calcular vosotros mismos la Regresión lineal."
   ]
  },
  {
   "cell_type": "code",
   "execution_count": null,
   "metadata": {},
   "outputs": [],
   "source": []
  }
 ],
 "metadata": {
  "kernelspec": {
   "display_name": "Python 3",
   "language": "python",
   "name": "python3"
  },
  "latex_envs": {
   "LaTeX_envs_menu_present": true,
   "autoclose": false,
   "autocomplete": true,
   "bibliofile": "biblio.bib",
   "cite_by": "apalike",
   "current_citInitial": 1,
   "eqLabelWithNumbers": true,
   "eqNumInitial": 1,
   "hotkeys": {
    "equation": "Ctrl-E",
    "itemize": "Ctrl-I"
   },
   "labels_anchors": false,
   "latex_user_defs": false,
   "report_style_numbering": false,
   "user_envs_cfg": false
  },
  "varInspector": {
   "cols": {
    "lenName": 16,
    "lenType": 16,
    "lenVar": 40
   },
   "kernels_config": {
    "python": {
     "delete_cmd_postfix": "",
     "delete_cmd_prefix": "del ",
     "library": "var_list.py",
     "varRefreshCmd": "print(var_dic_list())"
    },
    "r": {
     "delete_cmd_postfix": ") ",
     "delete_cmd_prefix": "rm(",
     "library": "var_list.r",
     "varRefreshCmd": "cat(var_dic_list()) "
    }
   },
   "types_to_exclude": [
    "module",
    "function",
    "builtin_function_or_method",
    "instance",
    "_Feature"
   ],
   "window_display": false
  }
 },
 "nbformat": 4,
 "nbformat_minor": 2
}
